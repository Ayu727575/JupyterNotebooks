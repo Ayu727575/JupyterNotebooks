{
 "cells": [
  {
   "cell_type": "markdown",
   "id": "8bcd6080-f5fe-42e6-9e0b-20694ee37a5e",
   "metadata": {},
   "source": [
    "# Data Science Tools and Ecosystem"
   ]
  },
  {
   "cell_type": "markdown",
   "id": "2766ded7-cffb-48e8-968c-aad5175187c8",
   "metadata": {},
   "source": [
    "## In this notebook, Data Science Tools and Ecosystem are summarized."
   ]
  },
  {
   "cell_type": "markdown",
   "id": "12a4a1ab-02bc-4084-8122-a3abec1973c7",
   "metadata": {},
   "source": [
    "### Some of the popular languages that Data Scientists use are:"
   ]
  },
  {
   "cell_type": "markdown",
   "id": "21421bee-f44b-4ca7-bd34-d804c8f23b56",
   "metadata": {},
   "source": [
    "1. Python\n",
    "2. R\n",
    "3. Java"
   ]
  },
  {
   "cell_type": "markdown",
   "id": "450e022c-6ac5-45f3-ae2c-22fa2ec6a985",
   "metadata": {},
   "source": [
    "### Some of the commonly used libraries used by Data Scientists include:\n",
    "\n",
    "1. Pandas\n",
    "2. Numpy\n",
    "3. MatPlotLib\n",
    "4. Seaborn\n",
    "5. Scipy"
   ]
  },
  {
   "cell_type": "markdown",
   "id": "203ed420-6057-4993-a46a-37c9b65ac375",
   "metadata": {},
   "source": [
    "| Data Science Tools |\n",
    "|--------------------|\n",
    "| Jupyter Lab |\n",
    "| R Studio |\n",
    "| Watson Studio |"
   ]
  },
  {
   "cell_type": "markdown",
   "id": "19e9b03f-e07b-4148-8249-43d025e137f4",
   "metadata": {},
   "source": [
    "### Below are a few examples of evaluating arithmetic expressions in Python"
   ]
  },
  {
   "cell_type": "code",
   "execution_count": 10,
   "id": "b0540b3a-7687-4a01-b28e-89688cee1bd8",
   "metadata": {},
   "outputs": [
    {
     "data": {
      "text/plain": [
       "17"
      ]
     },
     "execution_count": 10,
     "metadata": {},
     "output_type": "execute_result"
    }
   ],
   "source": [
    "# This a simple arithmetic expression to mutiply then add integers\n",
    "(3*4)+5"
   ]
  },
  {
   "cell_type": "code",
   "execution_count": 12,
   "id": "92cb1e6d-8e6a-4839-98ae-1fe769d27e01",
   "metadata": {},
   "outputs": [
    {
     "data": {
      "text/plain": [
       "3.3333333333333335"
      ]
     },
     "execution_count": 12,
     "metadata": {},
     "output_type": "execute_result"
    }
   ],
   "source": [
    "# This will convert 200 minutes to hours by diving by 60\n",
    "200/60"
   ]
  },
  {
   "cell_type": "markdown",
   "id": "5981aafc-1ea0-4507-bc63-62f48ea870ba",
   "metadata": {},
   "source": [
    "# some of the key takeaways from the course\n",
    "## Objectives :\n",
    "\n",
    "- Some of the popular languages that Data Scientists use are\n",
    "- Some of the commonly used libraries used by Data Scientists include\n",
    "- Data Science Tools\n",
    "- Below are a few examples of evaluating arithmetic expressions in Python"
   ]
  },
  {
   "cell_type": "markdown",
   "id": "cca30a9a-f06c-494d-a99b-3315aba04e27",
   "metadata": {},
   "source": [
    "## Auther\n",
    "Ayush Chouksey"
   ]
  },
  {
   "cell_type": "code",
   "execution_count": null,
   "id": "02609d59-ab5a-4b80-938d-3beb80fa2095",
   "metadata": {},
   "outputs": [],
   "source": []
  }
 ],
 "metadata": {
  "kernelspec": {
   "display_name": "Python 3 (ipykernel)",
   "language": "python",
   "name": "python3"
  },
  "language_info": {
   "codemirror_mode": {
    "name": "ipython",
    "version": 3
   },
   "file_extension": ".py",
   "mimetype": "text/x-python",
   "name": "python",
   "nbconvert_exporter": "python",
   "pygments_lexer": "ipython3",
   "version": "3.12.4"
  }
 },
 "nbformat": 4,
 "nbformat_minor": 5
}
